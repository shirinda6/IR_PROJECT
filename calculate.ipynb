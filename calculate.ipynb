{
 "cells": [
  {
   "cell_type": "code",
   "execution_count": null,
   "id": "079c4b47",
   "metadata": {},
   "outputs": [],
   "source": [
    "!gcloud dataproc clusters list --region us-central1\n",
    "!pip install -q google-cloud-storage==1.43.0\n",
    "!pip install -q graphframes"
   ]
  },
  {
   "cell_type": "code",
   "execution_count": null,
   "id": "080561bc",
   "metadata": {},
   "outputs": [],
   "source": [
    "import pyspark\n",
    "import sys\n",
    "import itertools\n",
    "import os\n",
    "import re\n",
    "from operator import itemgetter\n",
    "import nltk\n",
    "from nltk.stem.porter import *\n",
    "from nltk.corpus import stopwords\n",
    "from pathlib import Path\n",
    "import pickle\n",
    "from google.cloud import storage\n",
    "\n",
    "import hashlib\n",
    "def _hash(s):\n",
    "    return hashlib.blake2b(bytes(s, encoding='utf8'), digest_size=5).hexdigest()\n",
    "\n",
    "nltk.download('stopwords')\n",
    "!ls -l /usr/lib/spark/jars/graph*"
   ]
  },
  {
   "cell_type": "code",
   "execution_count": null,
   "id": "32fe22e2",
   "metadata": {},
   "outputs": [],
   "source": [
    "bucket_name = 'que_buck' \n",
    "client = storage.Client()\n",
    "\n",
    "full_path = \"gs://wikidata_preprocessed/*\"\n",
    "parquetFile = spark.read.parquet(full_path)\n",
    "doc_text_pairs = parquetFile.select(\"text\", \"id\").rdd\n",
    "\n",
    "%cd -q /home/dataproc\n",
    "!ls inverted_index_gcp.py\n",
    "\n",
    "sc.addFile(\"/home/dataproc/inverted_index_gcp.py\")\n",
    "sys.path.insert(0,SparkFiles.getRootDirectory())\n",
    "\n",
    "from inverted_index_gcp import InvertedIndex"
   ]
  },
  {
   "cell_type": "code",
   "execution_count": null,
   "id": "f4770693",
   "metadata": {},
   "outputs": [],
   "source": [
    "import math\n",
    "english_stopwords = frozenset(stopwords.words('english'))\n",
    "corpus_stopwords = [\"category\", \"references\", \"also\", \"external\", \"links\", \n",
    "                    \"may\", \"first\", \"see\", \"history\", \"people\", \"one\", \"two\", \n",
    "                    \"part\", \"thumb\", \"including\", \"second\", \"following\", \n",
    "                    \"many\", \"however\", \"would\", \"became\"]\n",
    "\n",
    "all_stopwords = english_stopwords.union(corpus_stopwords)\n",
    "RE_WORD = re.compile(r\"\"\"[\\#\\@\\w](['\\-]?\\w){2,24}\"\"\", re.UNICODE)\n",
    "\n",
    "def doc_length(text,id1):\n",
    "    tokens = [token.group() for token in RE_WORD.finditer(text.lower())]\n",
    "    d={}\n",
    "    s=0\n",
    "    for token in tokens:\n",
    "        d[token]=d.get(token,0)+1\n",
    "    for k,v in d.items():\n",
    "        s+=v*v\n",
    "    q=math.sqrt(s)\n",
    "    return id1,q\n",
    "\n",
    "lens=doc_text_pairs.map(lambda x:doc_length(x[0],x[1]))\n",
    "dict_len=lens.collectAsMap()\n",
    "\n",
    "with open(\".\" / f'norm.pkl', 'wb') as f:\n",
    "    pickle.dump(dict_len, f)\n",
    "\n",
    "index_src = \"norm.pkl\"\n",
    "index_dst = f'gs://{bucket_name}/pr/{index_src}'\n",
    "!gsutil cp $index_src $index_dst"
   ]
  },
  {
   "cell_type": "code",
   "execution_count": null,
   "id": "814c5228",
   "metadata": {},
   "outputs": [],
   "source": []
  },
  {
   "cell_type": "code",
   "execution_count": null,
   "id": "3ffcd9ae",
   "metadata": {},
   "outputs": [],
   "source": [
    "doc_title_pairs = parquetFile.select(\"title\", \"id\").rdd\n",
    "titles=doc_title_pairs.collectAsMap()\n",
    "\n",
    "with open(\".\" / f'titles.pkl', 'wb') as f:\n",
    "    pickle.dump(dict_len, f)\n",
    "\n",
    "index_src = \"titles.pkl\"\n",
    "index_dst = f'gs://{bucket_name}/pr/{index_src}'\n",
    "!gsutil cp $index_src $index_dst"
   ]
  }
 ],
 "metadata": {
  "kernelspec": {
   "display_name": "Python 3",
   "language": "python",
   "name": "python3"
  },
  "language_info": {
   "codemirror_mode": {
    "name": "ipython",
    "version": 3
   },
   "file_extension": ".py",
   "mimetype": "text/x-python",
   "name": "python",
   "nbconvert_exporter": "python",
   "pygments_lexer": "ipython3",
   "version": "3.6.13"
  }
 },
 "nbformat": 4,
 "nbformat_minor": 5
}
